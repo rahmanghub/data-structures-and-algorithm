{
 "cells": [
  {
   "cell_type": "markdown",
   "id": "4f24e40d",
   "metadata": {},
   "source": [
    "# Searching"
   ]
  },
  {
   "cell_type": "markdown",
   "id": "93577c86",
   "metadata": {},
   "source": [
    "# Linear Search\n",
    "\n",
    "#### Time Complexity\n",
    "\n",
    "Worst case = O(n)\n",
    "\n",
    "Best case = O(1)\n",
    "\n",
    "Avg case = O(n)\n",
    "\n",
    "#### Space Complexity \n",
    "= O(1)"
   ]
  },
  {
   "cell_type": "code",
   "execution_count": 44,
   "id": "a6dcce7c",
   "metadata": {},
   "outputs": [
    {
     "data": {
      "text/plain": [
       "2"
      ]
     },
     "execution_count": 44,
     "metadata": {},
     "output_type": "execute_result"
    }
   ],
   "source": [
    "def linearSearch(arr,target):\n",
    "    for index in range(len(arr)):\n",
    "        if arr[index] == target:\n",
    "            return index\n",
    "    return -1\n",
    "        \n",
    "linearSearch([1,2,3,4,5],3)"
   ]
  },
  {
   "cell_type": "markdown",
   "id": "ad04f74a",
   "metadata": {},
   "source": [
    "# Binary Search \n",
    "\n",
    "#### Time Complexity\n",
    "\n",
    "Worst case = O(log(n))\n",
    "\n",
    "Best case = O(1)\n",
    "\n",
    "Avg case = O(log(n))\n",
    "\n",
    "#### Space Complexity \n",
    "= O(1)"
   ]
  },
  {
   "cell_type": "code",
   "execution_count": 45,
   "id": "e68c2be2",
   "metadata": {},
   "outputs": [
    {
     "data": {
      "text/plain": [
       "2"
      ]
     },
     "execution_count": 45,
     "metadata": {},
     "output_type": "execute_result"
    }
   ],
   "source": [
    "def binarySearch(arr,target):\n",
    "    left = 0\n",
    "    right = len(arr)-1\n",
    "    while left <= right:\n",
    "        middle = (left + right) // 2\n",
    "        if arr[middle] == target:\n",
    "            return middle\n",
    "        elif arr[middle] > target:\n",
    "            left = middle + 1\n",
    "        else:\n",
    "            right = middle - 1\n",
    "    return -1\n",
    "            \n",
    "binarySearch([1,2,3,4,5],3)"
   ]
  },
  {
   "cell_type": "markdown",
   "id": "74544110",
   "metadata": {},
   "source": [
    "# Binary Search Recursion"
   ]
  },
  {
   "cell_type": "code",
   "execution_count": 46,
   "id": "bf358410",
   "metadata": {},
   "outputs": [
    {
     "data": {
      "text/plain": [
       "2"
      ]
     },
     "execution_count": 46,
     "metadata": {},
     "output_type": "execute_result"
    }
   ],
   "source": [
    "def binarySearchRecursion(arr,target):\n",
    "    left = 0\n",
    "    right = len(arr) - 1\n",
    "    result = helper(arr,target,left,right)\n",
    "    return result\n",
    "\n",
    "def helper(arr,target,left,right):\n",
    "    if left > right:\n",
    "        return -1\n",
    "    middle = (left + right) // 2\n",
    "    middleElement = arr[middle]\n",
    "    if middleElement == target:\n",
    "        return middle\n",
    "    elif middleElement < target:\n",
    "        helper(arr,target,middle+1,right)\n",
    "    else:\n",
    "        helper(arr,target,left,middle-1)\n",
    "        \n",
    "binarySearchRecursion([1,2,3,4,5],3)"
   ]
  },
  {
   "cell_type": "markdown",
   "id": "6cad54c0",
   "metadata": {},
   "source": [
    "# Sorting"
   ]
  },
  {
   "cell_type": "markdown",
   "id": "b4aa9262",
   "metadata": {},
   "source": [
    "# Bubble Sort\n",
    "\n",
    "#### Time Complexity\n",
    "\n",
    "Worst case = O(n^2)\n",
    "\n",
    "Best case = O(n)\n",
    "\n",
    "Avg case = O(n^2)\n",
    "\n",
    "#### Space Complexity \n",
    "= O(1)"
   ]
  },
  {
   "cell_type": "code",
   "execution_count": 47,
   "id": "e95ab8ac",
   "metadata": {},
   "outputs": [
    {
     "data": {
      "text/plain": [
       "[1, 2, 3, 4, 5]"
      ]
     },
     "execution_count": 47,
     "metadata": {},
     "output_type": "execute_result"
    }
   ],
   "source": [
    "def bubbleSort(arr):\n",
    "    for iter in range(len(arr)):\n",
    "        for index in range(len(arr) -1 - iter):\n",
    "            if arr[index] > arr[index + 1]:\n",
    "                arr[index] , arr[index + 1] = arr[index + 1] , arr[index]\n",
    "    return arr\n",
    "\n",
    "bubbleSort([5,1,3,2,4])"
   ]
  },
  {
   "cell_type": "markdown",
   "id": "cef1ca85",
   "metadata": {},
   "source": [
    "# Selection Sort\n",
    "\n",
    "#### Time Complexity\n",
    "\n",
    "Worst case = O(n^2)\n",
    "\n",
    "Best case = O(n^2)\n",
    "\n",
    "Avg case = O(n^2)\n",
    "\n",
    "#### Space Complexity \n",
    "= O(1)"
   ]
  },
  {
   "cell_type": "code",
   "execution_count": 48,
   "id": "8f34175f",
   "metadata": {},
   "outputs": [
    {
     "data": {
      "text/plain": [
       "[1, 2, 3, 4, 5]"
      ]
     },
     "execution_count": 48,
     "metadata": {},
     "output_type": "execute_result"
    }
   ],
   "source": [
    "def selectionSort(arr):\n",
    "    for ite in range(len(arr)):\n",
    "        minX = ite\n",
    "        for index in range(ite+1,len(arr)):\n",
    "            if arr[minX] < arr[index]:\n",
    "                minX = index\n",
    "            arr[minX] , arr[index] = arr[index] , arr[minX]\n",
    "    return arr\n",
    "\n",
    "selectionSort([5,1,3,2,4])"
   ]
  },
  {
   "cell_type": "markdown",
   "id": "f3aafde2",
   "metadata": {},
   "source": [
    "# Insersion Sort\n",
    "\n",
    "#### Time Complexity\n",
    "\n",
    "Worst case = O(n^2)\n",
    "\n",
    "Best case = O(n)\n",
    "\n",
    "Avg case = O(n^2)\n",
    "\n",
    "#### Space Complexity \n",
    "= O(1)"
   ]
  },
  {
   "cell_type": "code",
   "execution_count": 49,
   "id": "27e7da48",
   "metadata": {},
   "outputs": [
    {
     "data": {
      "text/plain": [
       "[1, 2, 3, 4, 5]"
      ]
     },
     "execution_count": 49,
     "metadata": {},
     "output_type": "execute_result"
    }
   ],
   "source": [
    "def insertionSort(arr):\n",
    "    for index in range(1,len(arr)):\n",
    "        key = arr[index]\n",
    "        last = index - 1\n",
    "        while last >= 0 and key < arr[last]:\n",
    "            arr[last + 1] = arr[last]\n",
    "            last-=1\n",
    "        arr[last + 1] = key\n",
    "    return arr\n",
    "\n",
    "insertionSort([5,1,3,2,4])"
   ]
  },
  {
   "cell_type": "markdown",
   "id": "369ace3c",
   "metadata": {},
   "source": [
    "# Quick Sort\n",
    "\n",
    "#### Time Complexity\n",
    "\n",
    "Worst case = O(n^2)\n",
    "\n",
    "Best case = O(n(log(n)))\n",
    "\n",
    "Avg case = O(n(log(n)))\n",
    "\n",
    "#### Space Complexity \n",
    " = O(log(n))"
   ]
  },
  {
   "cell_type": "code",
   "execution_count": 50,
   "id": "67e34bfd",
   "metadata": {},
   "outputs": [
    {
     "data": {
      "text/plain": [
       "[1, 2, 3, 4, 5]"
      ]
     },
     "execution_count": 50,
     "metadata": {},
     "output_type": "execute_result"
    }
   ],
   "source": [
    "def quickSort(arr):\n",
    "    result = qshelper(arr,0,len(arr)-1)\n",
    "    return result\n",
    "\n",
    "def qshelper(arr,start,end):\n",
    "    if start >= end:\n",
    "        return\n",
    "    pivot = start\n",
    "    left = start + 1\n",
    "    right = end\n",
    "    \n",
    "    while left <= right:\n",
    "        if arr[left] >= arr[pivot] and arr[right] <=arr[pivot]:\n",
    "            arr[left] , arr[right] = arr[right] , arr[left]\n",
    "        if arr[left] < arr[pivot]:\n",
    "            left += 1\n",
    "        if arr[right] > arr[pivot]:\n",
    "            right -= 1\n",
    "    arr[pivot] , arr[right] = arr[right] , arr[pivot]\n",
    "        \n",
    "    qshelper(arr,start,pivot-1)\n",
    "    qshelper(arr,pivot+1,end)\n",
    "    \n",
    "quickSort([5,1,3,2,4])"
   ]
  },
  {
   "cell_type": "markdown",
   "id": "19a44e47",
   "metadata": {},
   "source": [
    "# Merge Sort\n",
    "\n",
    "#### Time Complexity\n",
    "\n",
    "Worst case = O(n(log(n)))\n",
    "\n",
    "Best case = O(n(log(n)))\n",
    "\n",
    "Avg case = O(n(log(n)))\n",
    "\n",
    "#### Space Complexity \n",
    " = O(n)"
   ]
  },
  {
   "cell_type": "code",
   "execution_count": 51,
   "id": "67499696",
   "metadata": {},
   "outputs": [
    {
     "data": {
      "text/plain": [
       "[1, 2, 3, 4, 5]"
      ]
     },
     "execution_count": 51,
     "metadata": {},
     "output_type": "execute_result"
    }
   ],
   "source": [
    "def mergeSort(arr):\n",
    "    if len(arr) == 1:\n",
    "        return arr\n",
    "    \n",
    "    middle = len(arr) // 2\n",
    "    left = arr[:middle]\n",
    "    right = arr[middle:]\n",
    "    \n",
    "    leftResult = mergeSort(left)\n",
    "    rightResult = mergeSort(right)\n",
    "    \n",
    "    return mshelper(leftResult,rightResult)\n",
    "\n",
    "def mshelper(leftResult,rightResult):\n",
    "    result = []\n",
    "    i = j = 0\n",
    "    \n",
    "    while i < len(leftResult) and j < len(rightResult):\n",
    "        if leftResult[i] <= rightResult[j]:\n",
    "            result.append(leftResult[i])\n",
    "            i+=1\n",
    "        else:\n",
    "            result.append(rightResult[j])\n",
    "            j+=1\n",
    "            \n",
    "    while i < len(leftResult):\n",
    "        result.append(leftResult[i])\n",
    "        i+=1\n",
    "        \n",
    "    while j < len(rightResult):\n",
    "        result.append(rightResult[j])\n",
    "        j+=1\n",
    "    \n",
    "    return result\n",
    "    \n",
    "mergeSort([5,1,3,2,4])"
   ]
  },
  {
   "cell_type": "markdown",
   "id": "18404a72",
   "metadata": {},
   "source": [
    "# Binary Tree"
   ]
  },
  {
   "cell_type": "code",
   "execution_count": 52,
   "id": "9e6d34ba",
   "metadata": {},
   "outputs": [
    {
     "data": {
      "text/plain": [
       "1"
      ]
     },
     "execution_count": 52,
     "metadata": {},
     "output_type": "execute_result"
    }
   ],
   "source": [
    "class Node():\n",
    "    def __init__(self,value):\n",
    "        self.value = value\n",
    "        self.left = None\n",
    "        self.right = None\n",
    "        \n",
    "class BinaryTree():\n",
    "    def __init__(self,value):\n",
    "        self.root = Node(value)\n",
    "        \n",
    "tree = BinaryTree(3)\n",
    "tree.root.left = Node(2)\n",
    "tree.root.right = Node(1)\n",
    "\n",
    "tree.root.right.value"
   ]
  },
  {
   "cell_type": "markdown",
   "id": "07918825",
   "metadata": {},
   "source": [
    "# Depth First Search\n",
    "\n",
    "#### Time Complexity\n",
    "\n",
    "= O(n)\n",
    "\n",
    "#### Space Complexity \n",
    "\n",
    "Best Case = O(d)  d=depth\n",
    "\n",
    "Worst Case = O(n)"
   ]
  },
  {
   "cell_type": "code",
   "execution_count": 53,
   "id": "89207fdc",
   "metadata": {},
   "outputs": [
    {
     "name": "stdout",
     "output_type": "stream",
     "text": [
      "[3, 2, 1]\n",
      "[2, 3, 1]\n",
      "[2, 1, 3]\n"
     ]
    }
   ],
   "source": [
    "class Node():\n",
    "    def __init__(self,value):\n",
    "        self.value = value\n",
    "        self.left = None\n",
    "        self.right = None\n",
    "        \n",
    "class BinaryTree():\n",
    "    def __init__(self,value):\n",
    "        self.root = Node(value)\n",
    "        \n",
    "    def preOrder(self,start,traversal = []):\n",
    "        if start is None:\n",
    "            return\n",
    "#         ROOT -> LEFT -> RIGHT\n",
    "        traversal.append(start.value)\n",
    "        self.preOrder(start.left , traversal)\n",
    "        self.preOrder(start.right , traversal)\n",
    "        return traversal\n",
    "    \n",
    "    def inOrder(self,start,traversal = []):\n",
    "        if start is None:\n",
    "            return\n",
    "#         LEFT -> ROOT -> RIGHT\n",
    "        self.preOrder(start.left , traversal)\n",
    "        traversal.append(start.value)\n",
    "        self.preOrder(start.right , traversal)\n",
    "        return traversal\n",
    "    \n",
    "    def postOrder(self,start,traversal = []):\n",
    "        if start is None:\n",
    "            return\n",
    "#         LEFT -> RIGHT -> ROOT \n",
    "        self.preOrder(start.left , traversal)\n",
    "        self.preOrder(start.right , traversal)\n",
    "        traversal.append(start.value)\n",
    "        return traversal\n",
    "        \n",
    "        \n",
    "tree = BinaryTree(3)\n",
    "tree.root.left = Node(2)\n",
    "tree.root.right = Node(1)\n",
    "\n",
    "print(tree.preOrder(tree.root))\n",
    "print(tree.inOrder(tree.root))\n",
    "print(tree.postOrder(tree.root))"
   ]
  },
  {
   "cell_type": "markdown",
   "id": "ea7a80cb",
   "metadata": {},
   "source": [
    "# Breath First Search / level order\n",
    "\n",
    "#### Time Complexity\n",
    "\n",
    "= O(n)\n",
    "\n",
    "#### Space Complexity \n",
    "\n",
    "= O(n)"
   ]
  },
  {
   "cell_type": "code",
   "execution_count": 54,
   "id": "62652786",
   "metadata": {},
   "outputs": [
    {
     "name": "stdout",
     "output_type": "stream",
     "text": [
      "[3, 2, 1]\n"
     ]
    }
   ],
   "source": [
    "class Queue():\n",
    "    def __init__(self):\n",
    "        self.items = []\n",
    "        \n",
    "    def enqueue(self,item):\n",
    "        self.items.append(item)\n",
    "    \n",
    "    def dequeue(self):\n",
    "        if len(self.items):\n",
    "            return self.items.pop(0)\n",
    "    \n",
    "    def peek(self):\n",
    "        if len(self.items):\n",
    "            return self.items[0].value\n",
    "\n",
    "class Node():\n",
    "    def __init__(self,value):\n",
    "        self.value = value\n",
    "        self.left = None\n",
    "        self.right = None\n",
    "        \n",
    "class BinaryTree():\n",
    "    def __init__(self,value):\n",
    "        self.root = Node(value)\n",
    "        \n",
    "    def levelOrder(self,start):\n",
    "        if start is None:\n",
    "            return\n",
    "      \n",
    "        que = Queue()\n",
    "        que.enqueue(start)\n",
    "        traversed = []\n",
    "\n",
    "        while len(que.items) > 0:\n",
    "            traversed.append(que.peek())\n",
    "            node = que.dequeue()\n",
    "\n",
    "            if node.left:\n",
    "                que.enqueue(node.left)\n",
    "            if node.right:\n",
    "                que.enqueue(node.right)\n",
    "      \n",
    "        return traversed\n",
    "\n",
    "tree = BinaryTree(3)\n",
    "tree.root.left = Node(2)\n",
    "tree.root.right = Node(1)\n",
    "\n",
    "\n",
    "print(tree.levelOrder(tree.root))"
   ]
  },
  {
   "cell_type": "markdown",
   "id": "6c02b7bc",
   "metadata": {},
   "source": [
    "# Graph Traversal"
   ]
  },
  {
   "cell_type": "code",
   "execution_count": 55,
   "id": "ad91917c",
   "metadata": {},
   "outputs": [],
   "source": [
    "class Node():\n",
    "    def __init__(self,value):\n",
    "        self.value = value\n",
    "        self.adjacent = []\n",
    "        self.visited = False\n",
    "\n",
    "node1 = Node('A')\n",
    "node2 = Node('B')\n",
    "node3 = Node('C')\n",
    "node4 = Node('D')\n",
    "node5 = Node('E')\n",
    "node6 = Node('F')\n",
    "node7 = Node('G')\n",
    "\n",
    "node1.adjacent.append(node2)\n",
    "node1.adjacent.append(node3)\n",
    "node1.adjacent.append(node4)\n",
    "node2.adjacent.append(node5)\n",
    "node2.adjacent.append(node6)\n",
    "node4.adjacent.append(node7)"
   ]
  },
  {
   "cell_type": "markdown",
   "id": "330a5ecb",
   "metadata": {},
   "source": [
    "# Breath First Search In Graph\n",
    "\n",
    "#### Time Complexity\n",
    "\n",
    "= O(v+e)  v=vertex , e=edge\n",
    "\n",
    "#### Space Complexity \n",
    "\n",
    "= O(v)"
   ]
  },
  {
   "cell_type": "code",
   "execution_count": 56,
   "id": "1a431037",
   "metadata": {},
   "outputs": [
    {
     "name": "stdout",
     "output_type": "stream",
     "text": [
      "['A', 'B', 'C', 'D', 'E', 'F', 'G']\n"
     ]
    }
   ],
   "source": [
    "class Node():\n",
    "    def __init__(self,value):\n",
    "        self.value = value\n",
    "        self.adjacent = []\n",
    "        self.visited = False\n",
    "\n",
    "class Graph():\n",
    "    def BFS(self,start):\n",
    "        queue = []\n",
    "        traversed = []\n",
    "\n",
    "        queue.append(start)\n",
    "        start.visited = True\n",
    "\n",
    "        while queue:\n",
    "            nextNode = queue.pop(0)\n",
    "            traversed.append(nextNode.value)\n",
    "            for element in nextNode.adjacent:\n",
    "                if element.visited is False:\n",
    "                    queue.append(element)\n",
    "                    element.visited = True\n",
    "        return traversed\n",
    "\n",
    "node1 = Node('A')\n",
    "node2 = Node('B')\n",
    "node3 = Node('C')\n",
    "node4 = Node('D')\n",
    "node5 = Node('E')\n",
    "node6 = Node('F')\n",
    "node7 = Node('G')\n",
    "\n",
    "node1.adjacent.append(node2)\n",
    "node1.adjacent.append(node3)\n",
    "node1.adjacent.append(node4)\n",
    "node2.adjacent.append(node5)\n",
    "node2.adjacent.append(node6)\n",
    "node4.adjacent.append(node7)\n",
    "\n",
    "bfs = Graph()\n",
    "\n",
    "print(bfs.BFS(node1))"
   ]
  },
  {
   "cell_type": "markdown",
   "id": "19ae4754",
   "metadata": {},
   "source": [
    "# Depth First Search In Graph\n",
    "\n",
    "#### Time Complexity\n",
    "\n",
    "= O(v+e)  v=vertex , e=edge\n",
    "\n",
    "#### Space Complexity \n",
    "\n",
    "= O(v)"
   ]
  },
  {
   "cell_type": "code",
   "execution_count": 57,
   "id": "4a59b7fa",
   "metadata": {},
   "outputs": [
    {
     "name": "stdout",
     "output_type": "stream",
     "text": [
      "['A', 'B', 'E', 'F', 'C', 'D', 'G']\n"
     ]
    }
   ],
   "source": [
    "class Node():\n",
    "    def __init__(self,value):\n",
    "        self.value = value\n",
    "        self.adjacent = []\n",
    "        self.visited = False\n",
    "\n",
    "class Graph():\n",
    "    def DFS(self,start,traversal = []):\n",
    "        start.visited = True\n",
    "        traversal.append(start.value)\n",
    "\n",
    "        for element in start.adjacent:\n",
    "            if element.visited is False:\n",
    "                self.DFS(element,traversal)  \n",
    "        return traversal\n",
    "\n",
    "\n",
    "node1 = Node('A')\n",
    "node2 = Node('B')\n",
    "node3 = Node('C')\n",
    "node4 = Node('D')\n",
    "node5 = Node('E')\n",
    "node6 = Node('F')\n",
    "node7 = Node('G')\n",
    "\n",
    "node1.adjacent.append(node2)\n",
    "node1.adjacent.append(node3)\n",
    "node1.adjacent.append(node4)\n",
    "node2.adjacent.append(node5)\n",
    "node2.adjacent.append(node6)\n",
    "node4.adjacent.append(node7)\n",
    "\n",
    "graph = Graph()\n",
    "print(graph.DFS(node1))"
   ]
  }
 ],
 "metadata": {
  "kernelspec": {
   "display_name": "Python 3 (ipykernel)",
   "language": "python",
   "name": "python3"
  },
  "language_info": {
   "codemirror_mode": {
    "name": "ipython",
    "version": 3
   },
   "file_extension": ".py",
   "mimetype": "text/x-python",
   "name": "python",
   "nbconvert_exporter": "python",
   "pygments_lexer": "ipython3",
   "version": "3.11.2"
  }
 },
 "nbformat": 4,
 "nbformat_minor": 5
}
